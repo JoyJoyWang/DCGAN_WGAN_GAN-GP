{
  "nbformat": 4,
  "nbformat_minor": 0,
  "metadata": {
    "colab": {
      "provenance": [],
      "machine_shape": "hm",
      "gpuType": "A100"
    },
    "kernelspec": {
      "name": "python3",
      "display_name": "Python 3"
    },
    "language_info": {
      "name": "python"
    },
    "accelerator": "GPU"
  },
  "cells": [
    {
      "cell_type": "code",
      "source": [
        "import torch.nn as nn\n",
        "import torch.optim as optim\n",
        "from torchvision import datasets, transforms\n",
        "import torch\n",
        "\n",
        "class Reshape(torch.nn.Module):\n",
        "    def __init__(self, *shape):\n",
        "        super().__init__()\n",
        "        self.shape = shape\n",
        "    def forward(self, x):\n",
        "        return x.reshape(x.size(0), *self.shape)\n",
        "\n",
        "class ConditionalGenerator(torch.nn.Module):\n",
        "    def __init__(self, dim_z=64, num_channels=1, num_classes=10):\n",
        "        super().__init__()\n",
        "        self.dim_z = dim_z\n",
        "        self.num_classes = num_classes\n",
        "        self.net = torch.nn.Sequential(\n",
        "            torch.nn.Linear(dim_z + num_classes, 512),\n",
        "            torch.nn.BatchNorm1d(512),\n",
        "            torch.nn.ReLU(inplace=True),\n",
        "\n",
        "            torch.nn.Linear(512, 64 * 7 * 7),\n",
        "            torch.nn.BatchNorm1d(64 * 7 * 7),\n",
        "            torch.nn.ReLU(inplace=True),\n",
        "            Reshape(64, 7, 7),\n",
        "\n",
        "            torch.nn.PixelShuffle(2),\n",
        "            torch.nn.Conv2d(64 // 4, 32, kernel_size=3, padding=1),\n",
        "            torch.nn.BatchNorm2d(32),\n",
        "            torch.nn.ReLU(inplace=True),\n",
        "\n",
        "            torch.nn.PixelShuffle(2),\n",
        "            torch.nn.Conv2d(32 // 4, num_channels, kernel_size=3, padding=1),\n",
        "        )\n",
        "\n",
        "    def forward(self, z, y):\n",
        "        one_hot_y = torch.eye(self.num_classes, device=y.device)[y]\n",
        "        z = torch.cat([z, one_hot_y], 1)\n",
        "        return self.net(z)\n",
        "\n",
        "class ConditionalDiscriminator(torch.nn.Module):\n",
        "    def __init__(self, num_classes=10):\n",
        "        super().__init__()\n",
        "        self.num_classes = num_classes\n",
        "        self.net = torch.nn.Sequential(\n",
        "            torch.nn.Conv2d(1, 32, kernel_size=4, stride=2, padding=1),\n",
        "            torch.nn.LeakyReLU(0.1),\n",
        "\n",
        "            torch.nn.Conv2d(32, 64, kernel_size=4, stride=2, padding=1),\n",
        "            torch.nn.LeakyReLU(0.1),\n",
        "\n",
        "            Reshape(64 * 7 * 7),\n",
        "            torch.nn.Linear(64 * 7 * 7, 512),\n",
        "            torch.nn.LeakyReLU(0.1),\n",
        "            torch.nn.Linear(512, self.num_classes)\n",
        "        )\n",
        "\n",
        "    def forward(self, x, y):\n",
        "        return self.net(x).gather(1, y.unsqueeze(1)).squeeze(1)"
      ],
      "metadata": {
        "id": "-HACB9U9ydyE"
      },
      "execution_count": 1,
      "outputs": []
    },
    {
      "cell_type": "code",
      "source": [
        "device = torch.device(\"cuda\" if torch.cuda.is_available() else \"cpu\")"
      ],
      "metadata": {
        "id": "-eBTLXGe0ItF"
      },
      "execution_count": 2,
      "outputs": []
    },
    {
      "cell_type": "code",
      "source": [
        "g = ConditionalGenerator().to(device)\n",
        "d = ConditionalDiscriminator().to(device)"
      ],
      "metadata": {
        "id": "UuqEkpmvRujd"
      },
      "execution_count": 3,
      "outputs": []
    },
    {
      "cell_type": "code",
      "source": [
        "transform = transforms.Compose([transforms.ToTensor(), transforms.Normalize((0.5,), (0.5,))])\n",
        "\n",
        "train_dataset = datasets.FashionMNIST(root=\"./data\", train=True, transform=transform, download=True)\n",
        "train_loader = torch.utils.data.DataLoader(train_dataset, batch_size=64, shuffle=True)"
      ],
      "metadata": {
        "colab": {
          "base_uri": "https://localhost:8080/"
        },
        "id": "8LlTE56l0aqs",
        "outputId": "a71d51a3-8f5f-4ba6-a6bc-d92aedfed825"
      },
      "execution_count": 4,
      "outputs": [
        {
          "output_type": "stream",
          "name": "stdout",
          "text": [
            "Downloading http://fashion-mnist.s3-website.eu-central-1.amazonaws.com/train-images-idx3-ubyte.gz\n",
            "Downloading http://fashion-mnist.s3-website.eu-central-1.amazonaws.com/train-images-idx3-ubyte.gz to ./data/FashionMNIST/raw/train-images-idx3-ubyte.gz\n"
          ]
        },
        {
          "output_type": "stream",
          "name": "stderr",
          "text": [
            "100%|██████████| 26421880/26421880 [00:05<00:00, 4486414.52it/s] \n"
          ]
        },
        {
          "output_type": "stream",
          "name": "stdout",
          "text": [
            "Extracting ./data/FashionMNIST/raw/train-images-idx3-ubyte.gz to ./data/FashionMNIST/raw\n",
            "\n",
            "Downloading http://fashion-mnist.s3-website.eu-central-1.amazonaws.com/train-labels-idx1-ubyte.gz\n",
            "Downloading http://fashion-mnist.s3-website.eu-central-1.amazonaws.com/train-labels-idx1-ubyte.gz to ./data/FashionMNIST/raw/train-labels-idx1-ubyte.gz\n"
          ]
        },
        {
          "output_type": "stream",
          "name": "stderr",
          "text": [
            "100%|██████████| 29515/29515 [00:00<00:00, 272906.18it/s]\n"
          ]
        },
        {
          "output_type": "stream",
          "name": "stdout",
          "text": [
            "Extracting ./data/FashionMNIST/raw/train-labels-idx1-ubyte.gz to ./data/FashionMNIST/raw\n",
            "\n",
            "Downloading http://fashion-mnist.s3-website.eu-central-1.amazonaws.com/t10k-images-idx3-ubyte.gz\n",
            "Downloading http://fashion-mnist.s3-website.eu-central-1.amazonaws.com/t10k-images-idx3-ubyte.gz to ./data/FashionMNIST/raw/t10k-images-idx3-ubyte.gz\n"
          ]
        },
        {
          "output_type": "stream",
          "name": "stderr",
          "text": [
            "100%|██████████| 4422102/4422102 [00:02<00:00, 1902218.85it/s]\n"
          ]
        },
        {
          "output_type": "stream",
          "name": "stdout",
          "text": [
            "Extracting ./data/FashionMNIST/raw/t10k-images-idx3-ubyte.gz to ./data/FashionMNIST/raw\n",
            "\n",
            "Downloading http://fashion-mnist.s3-website.eu-central-1.amazonaws.com/t10k-labels-idx1-ubyte.gz\n",
            "Downloading http://fashion-mnist.s3-website.eu-central-1.amazonaws.com/t10k-labels-idx1-ubyte.gz to ./data/FashionMNIST/raw/t10k-labels-idx1-ubyte.gz\n"
          ]
        },
        {
          "output_type": "stream",
          "name": "stderr",
          "text": [
            "100%|██████████| 5148/5148 [00:00<00:00, 8398396.34it/s]"
          ]
        },
        {
          "output_type": "stream",
          "name": "stdout",
          "text": [
            "Extracting ./data/FashionMNIST/raw/t10k-labels-idx1-ubyte.gz to ./data/FashionMNIST/raw\n",
            "\n"
          ]
        },
        {
          "output_type": "stream",
          "name": "stderr",
          "text": [
            "\n"
          ]
        }
      ]
    },
    {
      "cell_type": "code",
      "source": [
        "from google.colab import drive\n",
        "drive.mount('/content/drive')"
      ],
      "metadata": {
        "colab": {
          "base_uri": "https://localhost:8080/"
        },
        "id": "iHtTLqqn54ZP",
        "outputId": "c9476f99-6df8-42dc-cc4b-df189fb8117f"
      },
      "execution_count": 5,
      "outputs": [
        {
          "output_type": "stream",
          "name": "stdout",
          "text": [
            "Mounted at /content/drive\n"
          ]
        }
      ]
    },
    {
      "cell_type": "markdown",
      "source": [
        "# dcgan"
      ],
      "metadata": {
        "id": "7Bu20l7t9uOJ"
      }
    },
    {
      "cell_type": "code",
      "source": [
        "output_dir = '/content/drive/MyDrive/A3_output_architecture1/'\n",
        "checkpoint_path = output_dir+'dcgan/model_0938.pt'\n",
        "g = ConditionalGenerator()\n",
        "\n",
        "g, d = torch.load(checkpoint_path, map_location=device)\n",
        "\n",
        "g.eval()\n",
        "d.eval()"
      ],
      "metadata": {
        "colab": {
          "base_uri": "https://localhost:8080/"
        },
        "id": "hkIo-O-e5SZe",
        "outputId": "3997fa99-e3e8-489a-c60c-5cb567b8e916"
      },
      "execution_count": 25,
      "outputs": [
        {
          "output_type": "stream",
          "name": "stderr",
          "text": [
            "<ipython-input-25-3ad4cd8a3d87>:5: FutureWarning: You are using `torch.load` with `weights_only=False` (the current default value), which uses the default pickle module implicitly. It is possible to construct malicious pickle data which will execute arbitrary code during unpickling (See https://github.com/pytorch/pytorch/blob/main/SECURITY.md#untrusted-models for more details). In a future release, the default value for `weights_only` will be flipped to `True`. This limits the functions that could be executed during unpickling. Arbitrary objects will no longer be allowed to be loaded via this mode unless they are explicitly allowlisted by the user via `torch.serialization.add_safe_globals`. We recommend you start setting `weights_only=True` for any use case where you don't have full control of the loaded file. Please open an issue on GitHub for any issues related to this experimental feature.\n",
            "  g, d = torch.load(checkpoint_path, map_location=device)\n"
          ]
        },
        {
          "output_type": "execute_result",
          "data": {
            "text/plain": [
              "ConditionalDiscriminator(\n",
              "  (net): Sequential(\n",
              "    (0): Conv2d(1, 64, kernel_size=(4, 4), stride=(2, 2), padding=(1, 1))\n",
              "    (1): LeakyReLU(negative_slope=0.2, inplace=True)\n",
              "    (2): Conv2d(64, 128, kernel_size=(4, 4), stride=(2, 2), padding=(1, 1))\n",
              "    (3): BatchNorm2d(128, eps=1e-05, momentum=0.1, affine=True, track_running_stats=True)\n",
              "    (4): LeakyReLU(negative_slope=0.2, inplace=True)\n",
              "    (5): Conv2d(128, 256, kernel_size=(4, 4), stride=(2, 2), padding=(1, 1))\n",
              "    (6): BatchNorm2d(256, eps=1e-05, momentum=0.1, affine=True, track_running_stats=True)\n",
              "    (7): LeakyReLU(negative_slope=0.2, inplace=True)\n",
              "    (8): Conv2d(256, 512, kernel_size=(3, 3), stride=(1, 1), padding=(1, 1))\n",
              "    (9): BatchNorm2d(512, eps=1e-05, momentum=0.1, affine=True, track_running_stats=True)\n",
              "    (10): LeakyReLU(negative_slope=0.2, inplace=True)\n",
              "    (11): Reshape()\n",
              "    (12): Linear(in_features=4608, out_features=1024, bias=True)\n",
              "    (13): LeakyReLU(negative_slope=0.2, inplace=True)\n",
              "    (14): Linear(in_features=1024, out_features=10, bias=True)\n",
              "  )\n",
              ")"
            ]
          },
          "metadata": {},
          "execution_count": 25
        }
      ]
    },
    {
      "cell_type": "code",
      "source": [
        "import matplotlib.pyplot as plt\n",
        "import torchvision.utils as vutils\n",
        "\n",
        "def generate_images(g, label, num_images, z_dim, device):\n",
        "    z = torch.randn(num_images, z_dim).to(device)\n",
        "    y = torch.full((num_images,), label, dtype=torch.long).to(device)\n",
        "\n",
        "    with torch.no_grad():\n",
        "        g.eval()\n",
        "        generated_images = (g(z, y) + 1) / 2.\n",
        "        g.train()\n",
        "\n",
        "    return generated_images\n",
        "\n",
        "def get_real_images(dataset, label, num_images):\n",
        "    real_images = []\n",
        "    for img, lbl in dataset:\n",
        "        if lbl == label:\n",
        "            real_images.append(img)\n",
        "        if len(real_images) >= num_images:\n",
        "            break\n",
        "    return torch.stack(real_images)\n",
        "\n",
        "\n",
        "def show_images(generated_images, real_images, label):\n",
        "    plt.figure(figsize=(10, 5))\n",
        "    plt.subplot(1, 2, 1)\n",
        "    plt.axis(\"off\")\n",
        "    plt.title(f\"Generated Images for label {label}\")\n",
        "    plt.imshow(vutils.make_grid(generated_images.cpu(), padding=2, normalize=True).permute(1, 2, 0))\n",
        "\n",
        "\n",
        "    plt.subplot(1, 2, 2)\n",
        "    plt.axis(\"off\")\n",
        "    plt.title(f\"Real Images for label {label}\")\n",
        "    plt.imshow(vutils.make_grid(real_images, padding=2, normalize=True).permute(1, 2, 0))\n",
        "\n",
        "    plt.show()"
      ],
      "metadata": {
        "id": "3MFc69qT7qfx"
      },
      "execution_count": 26,
      "outputs": []
    },
    {
      "cell_type": "code",
      "source": [
        "# Example: Generate 10 images for the label 5 (Sandal class in FashionMNIST)\n",
        "label = 1  # input a label\n",
        "num_images = 2  # input the number of images\n",
        "z_dim = g.dim_z\n",
        "\n",
        "generated_images = generate_images(g, label, num_images, z_dim, device)\n",
        "\n",
        "real_images = get_real_images(train_dataset, label, num_images)\n",
        "\n",
        "show_images(generated_images, real_images, label)"
      ],
      "metadata": {
        "colab": {
          "base_uri": "https://localhost:8080/",
          "height": 210
        },
        "id": "FlQ_iFNQ8vRv",
        "outputId": "4cf7c998-d2bf-4559-a615-bb371aec8f9d"
      },
      "execution_count": 30,
      "outputs": [
        {
          "output_type": "display_data",
          "data": {
            "text/plain": [
              "<Figure size 1000x500 with 2 Axes>"
            ],
            "image/png": "[encoded data removed]"
          },
          "metadata": {}
        }
      ]
    },
    {
      "cell_type": "code",
      "source": [
        "# Example: Generate 10 images for the label 5 (Sandal class in FashionMNIST)\n",
        "label = 2  # input a label\n",
        "num_images = 2  # input the number of images\n",
        "z_dim = g.dim_z\n",
        "\n",
        "generated_images = generate_images(g, label, num_images, z_dim, device)\n",
        "\n",
        "real_images = get_real_images(train_dataset, label, num_images)\n",
        "\n",
        "show_images(generated_images, real_images, label)"
      ],
      "metadata": {
        "colab": {
          "base_uri": "https://localhost:8080/",
          "height": 210
        },
        "id": "0Ydml_1J9TXI",
        "outputId": "12273649-ea87-4d96-be6c-3037442a42cb"
      },
      "execution_count": 34,
      "outputs": [
        {
          "output_type": "display_data",
          "data": {
            "text/plain": [
              "<Figure size 1000x500 with 2 Axes>"
            ],
            "image/png": "[encoded data removed]"
          },
          "metadata": {}
        }
      ]
    },
    {
      "cell_type": "code",
      "source": [],
      "metadata": {
        "id": "40k6vQoc0bwZ"
      },
      "execution_count": null,
      "outputs": []
    },
    {
      "cell_type": "markdown",
      "source": [
        "# wgan"
      ],
      "metadata": {
        "id": "m_hsn1Cy9yZD"
      }
    },
    {
      "cell_type": "code",
      "source": [
        "output_dir = '/content/drive/MyDrive/A3_output_architecture1/'\n",
        "checkpoint_path = output_dir+'wgan/model_0938.pt'\n",
        "g = ConditionalGenerator()\n",
        "\n",
        "g, d = torch.load(checkpoint_path, map_location=device)\n",
        "\n",
        "g.eval()\n",
        "d.eval()"
      ],
      "metadata": {
        "colab": {
          "base_uri": "https://localhost:8080/"
        },
        "outputId": "6267111b-fe4b-4d66-b40e-67f4f4e6fd75",
        "id": "2EjtmaUJ92GN"
      },
      "execution_count": 35,
      "outputs": [
        {
          "output_type": "stream",
          "name": "stderr",
          "text": [
            "<ipython-input-35-917de725024c>:5: FutureWarning: You are using `torch.load` with `weights_only=False` (the current default value), which uses the default pickle module implicitly. It is possible to construct malicious pickle data which will execute arbitrary code during unpickling (See https://github.com/pytorch/pytorch/blob/main/SECURITY.md#untrusted-models for more details). In a future release, the default value for `weights_only` will be flipped to `True`. This limits the functions that could be executed during unpickling. Arbitrary objects will no longer be allowed to be loaded via this mode unless they are explicitly allowlisted by the user via `torch.serialization.add_safe_globals`. We recommend you start setting `weights_only=True` for any use case where you don't have full control of the loaded file. Please open an issue on GitHub for any issues related to this experimental feature.\n",
            "  g, d = torch.load(checkpoint_path, map_location=device)\n"
          ]
        },
        {
          "output_type": "execute_result",
          "data": {
            "text/plain": [
              "ConditionalDiscriminator(\n",
              "  (net): Sequential(\n",
              "    (0): Conv2d(1, 64, kernel_size=(4, 4), stride=(2, 2), padding=(1, 1))\n",
              "    (1): LeakyReLU(negative_slope=0.2, inplace=True)\n",
              "    (2): Conv2d(64, 128, kernel_size=(4, 4), stride=(2, 2), padding=(1, 1))\n",
              "    (3): BatchNorm2d(128, eps=1e-05, momentum=0.1, affine=True, track_running_stats=True)\n",
              "    (4): LeakyReLU(negative_slope=0.2, inplace=True)\n",
              "    (5): Conv2d(128, 256, kernel_size=(4, 4), stride=(2, 2), padding=(1, 1))\n",
              "    (6): BatchNorm2d(256, eps=1e-05, momentum=0.1, affine=True, track_running_stats=True)\n",
              "    (7): LeakyReLU(negative_slope=0.2, inplace=True)\n",
              "    (8): Conv2d(256, 512, kernel_size=(3, 3), stride=(1, 1), padding=(1, 1))\n",
              "    (9): BatchNorm2d(512, eps=1e-05, momentum=0.1, affine=True, track_running_stats=True)\n",
              "    (10): LeakyReLU(negative_slope=0.2, inplace=True)\n",
              "    (11): Reshape()\n",
              "    (12): Linear(in_features=4608, out_features=1024, bias=True)\n",
              "    (13): LeakyReLU(negative_slope=0.2, inplace=True)\n",
              "    (14): Linear(in_features=1024, out_features=10, bias=True)\n",
              "  )\n",
              ")"
            ]
          },
          "metadata": {},
          "execution_count": 35
        }
      ]
    },
    {
      "cell_type": "code",
      "source": [
        "import matplotlib.pyplot as plt\n",
        "import torchvision.utils as vutils\n",
        "\n",
        "def generate_images(g, label, num_images, z_dim, device):\n",
        "    z = torch.randn(num_images, z_dim).to(device)\n",
        "    y = torch.full((num_images,), label, dtype=torch.long).to(device)\n",
        "\n",
        "    with torch.no_grad():\n",
        "        g.eval()\n",
        "        generated_images = (g(z, y) + 1) / 2.\n",
        "        g.train()\n",
        "\n",
        "    return generated_images\n",
        "\n",
        "def get_real_images(dataset, label, num_images):\n",
        "    real_images = []\n",
        "    for img, lbl in dataset:\n",
        "        if lbl == label:\n",
        "            real_images.append(img)\n",
        "        if len(real_images) >= num_images:\n",
        "            break\n",
        "    return torch.stack(real_images)\n",
        "\n",
        "\n",
        "def show_images(generated_images, real_images, label):\n",
        "    plt.figure(figsize=(10, 5))\n",
        "    plt.subplot(1, 2, 1)\n",
        "    plt.axis(\"off\")\n",
        "    plt.title(f\"Generated Images for label {label}\")\n",
        "    plt.imshow(vutils.make_grid(generated_images.cpu(), padding=2, normalize=True).permute(1, 2, 0))\n",
        "\n",
        "\n",
        "    plt.subplot(1, 2, 2)\n",
        "    plt.axis(\"off\")\n",
        "    plt.title(f\"Real Images for label {label}\")\n",
        "    plt.imshow(vutils.make_grid(real_images, padding=2, normalize=True).permute(1, 2, 0))\n",
        "\n",
        "    plt.show()"
      ],
      "metadata": {
        "id": "1n0ayZKC92GO"
      },
      "execution_count": 36,
      "outputs": []
    },
    {
      "cell_type": "code",
      "source": [
        "# Example: Generate 10 images for the label 5 (Sandal class in FashionMNIST)\n",
        "label = 1  # input a label\n",
        "num_images = 2  # input the number of images\n",
        "z_dim = g.dim_z\n",
        "\n",
        "generated_images = generate_images(g, label, num_images, z_dim, device)\n",
        "\n",
        "real_images = get_real_images(train_dataset, label, num_images)\n",
        "\n",
        "show_images(generated_images, real_images, label)"
      ],
      "metadata": {
        "colab": {
          "base_uri": "https://localhost:8080/",
          "height": 210
        },
        "outputId": "298074d7-da6a-41f1-fe5e-50c75d8dad09",
        "id": "KAwem1qd92GO"
      },
      "execution_count": 45,
      "outputs": [
        {
          "output_type": "display_data",
          "data": {
            "text/plain": [
              "<Figure size 1000x500 with 2 Axes>"
            ],
            "image/png": "[encoded data removed]"
          },
          "metadata": {}
        }
      ]
    },
    {
      "cell_type": "code",
      "source": [
        "# Example: Generate 10 images for the label 5 (Sandal class in FashionMNIST)\n",
        "label = 2  # input a label\n",
        "num_images = 2  # input the number of images\n",
        "z_dim = g.dim_z\n",
        "\n",
        "generated_images = generate_images(g, label, num_images, z_dim, device)\n",
        "\n",
        "real_images = get_real_images(train_dataset, label, num_images)\n",
        "\n",
        "show_images(generated_images, real_images, label)"
      ],
      "metadata": {
        "colab": {
          "base_uri": "https://localhost:8080/",
          "height": 210
        },
        "outputId": "9bc7c22c-8123-4d96-edb5-d204ace97794",
        "id": "ODsT4TaE92GO"
      },
      "execution_count": 50,
      "outputs": [
        {
          "output_type": "display_data",
          "data": {
            "text/plain": [
              "<Figure size 1000x500 with 2 Axes>"
            ],
            "image/png": "[encoded data removed]"
          },
          "metadata": {}
        }
      ]
    },
    {
      "cell_type": "markdown",
      "source": [
        "# wgan-gp"
      ],
      "metadata": {
        "id": "CQeOXjTT-Z6-"
      }
    },
    {
      "cell_type": "code",
      "source": [],
      "metadata": {
        "id": "Q47qJONk-b2l"
      },
      "execution_count": null,
      "outputs": []
    },
    {
      "cell_type": "code",
      "source": [
        "output_dir = '/content/drive/MyDrive/A3_output_architecture1/'\n",
        "checkpoint_path = output_dir+'wgan_gp/model_0938.pt'\n",
        "g = ConditionalGenerator()\n",
        "\n",
        "g, d = torch.load(checkpoint_path, map_location=device)\n",
        "\n",
        "g.eval()\n",
        "d.eval()"
      ],
      "metadata": {
        "colab": {
          "base_uri": "https://localhost:8080/"
        },
        "outputId": "1ab264c7-21ff-4473-ae57-a58e30411d9d",
        "id": "TycH694M-dz7"
      },
      "execution_count": 51,
      "outputs": [
        {
          "output_type": "stream",
          "name": "stderr",
          "text": [
            "<ipython-input-51-c5aab8d9499a>:5: FutureWarning: You are using `torch.load` with `weights_only=False` (the current default value), which uses the default pickle module implicitly. It is possible to construct malicious pickle data which will execute arbitrary code during unpickling (See https://github.com/pytorch/pytorch/blob/main/SECURITY.md#untrusted-models for more details). In a future release, the default value for `weights_only` will be flipped to `True`. This limits the functions that could be executed during unpickling. Arbitrary objects will no longer be allowed to be loaded via this mode unless they are explicitly allowlisted by the user via `torch.serialization.add_safe_globals`. We recommend you start setting `weights_only=True` for any use case where you don't have full control of the loaded file. Please open an issue on GitHub for any issues related to this experimental feature.\n",
            "  g, d = torch.load(checkpoint_path, map_location=device)\n"
          ]
        },
        {
          "output_type": "execute_result",
          "data": {
            "text/plain": [
              "ConditionalDiscriminator(\n",
              "  (net): Sequential(\n",
              "    (0): Conv2d(1, 64, kernel_size=(4, 4), stride=(2, 2), padding=(1, 1))\n",
              "    (1): LeakyReLU(negative_slope=0.2, inplace=True)\n",
              "    (2): Conv2d(64, 128, kernel_size=(4, 4), stride=(2, 2), padding=(1, 1))\n",
              "    (3): BatchNorm2d(128, eps=1e-05, momentum=0.1, affine=True, track_running_stats=True)\n",
              "    (4): LeakyReLU(negative_slope=0.2, inplace=True)\n",
              "    (5): Conv2d(128, 256, kernel_size=(4, 4), stride=(2, 2), padding=(1, 1))\n",
              "    (6): BatchNorm2d(256, eps=1e-05, momentum=0.1, affine=True, track_running_stats=True)\n",
              "    (7): LeakyReLU(negative_slope=0.2, inplace=True)\n",
              "    (8): Conv2d(256, 512, kernel_size=(3, 3), stride=(1, 1), padding=(1, 1))\n",
              "    (9): BatchNorm2d(512, eps=1e-05, momentum=0.1, affine=True, track_running_stats=True)\n",
              "    (10): LeakyReLU(negative_slope=0.2, inplace=True)\n",
              "    (11): Reshape()\n",
              "    (12): Linear(in_features=4608, out_features=1024, bias=True)\n",
              "    (13): LeakyReLU(negative_slope=0.2, inplace=True)\n",
              "    (14): Linear(in_features=1024, out_features=10, bias=True)\n",
              "  )\n",
              ")"
            ]
          },
          "metadata": {},
          "execution_count": 51
        }
      ]
    },
    {
      "cell_type": "code",
      "source": [
        "import matplotlib.pyplot as plt\n",
        "import torchvision.utils as vutils\n",
        "\n",
        "def generate_images(g, label, num_images, z_dim, device):\n",
        "    z = torch.randn(num_images, z_dim).to(device)\n",
        "    y = torch.full((num_images,), label, dtype=torch.long).to(device)\n",
        "\n",
        "    with torch.no_grad():\n",
        "        g.eval()\n",
        "        generated_images = (g(z, y) + 1) / 2.\n",
        "        g.train()\n",
        "\n",
        "    return generated_images\n",
        "\n",
        "def get_real_images(dataset, label, num_images):\n",
        "    real_images = []\n",
        "    for img, lbl in dataset:\n",
        "        if lbl == label:\n",
        "            real_images.append(img)\n",
        "        if len(real_images) >= num_images:\n",
        "            break\n",
        "    return torch.stack(real_images)\n",
        "\n",
        "\n",
        "def show_images(generated_images, real_images, label):\n",
        "    plt.figure(figsize=(10, 5))\n",
        "    plt.subplot(1, 2, 1)\n",
        "    plt.axis(\"off\")\n",
        "    plt.title(f\"Generated Images for label {label}\")\n",
        "    plt.imshow(vutils.make_grid(generated_images.cpu(), padding=2, normalize=True).permute(1, 2, 0))\n",
        "\n",
        "\n",
        "    plt.subplot(1, 2, 2)\n",
        "    plt.axis(\"off\")\n",
        "    plt.title(f\"Real Images for label {label}\")\n",
        "    plt.imshow(vutils.make_grid(real_images, padding=2, normalize=True).permute(1, 2, 0))\n",
        "\n",
        "    plt.show()"
      ],
      "metadata": {
        "id": "ZwhMqUOw-dz8"
      },
      "execution_count": 52,
      "outputs": []
    },
    {
      "cell_type": "code",
      "source": [
        "# Example: Generate 10 images for the label 5 (Sandal class in FashionMNIST)\n",
        "label = 1  # input a label\n",
        "num_images = 2  # input the number of images\n",
        "z_dim = g.dim_z\n",
        "\n",
        "generated_images = generate_images(g, label, num_images, z_dim, device)\n",
        "\n",
        "real_images = get_real_images(train_dataset, label, num_images)\n",
        "\n",
        "show_images(generated_images, real_images, label)"
      ],
      "metadata": {
        "colab": {
          "base_uri": "https://localhost:8080/",
          "height": 210
        },
        "outputId": "398d6627-a6b2-43cc-e9c6-29d56519cf08",
        "id": "E4CvDY_I-dz8"
      },
      "execution_count": 56,
      "outputs": [
        {
          "output_type": "display_data",
          "data": {
            "text/plain": [
              "<Figure size 1000x500 with 2 Axes>"
            ],
            "image/png": "[encoded data removed]"
          },
          "metadata": {}
        }
      ]
    },
    {
      "cell_type": "code",
      "source": [
        "# Example: Generate 10 images for the label 5 (Sandal class in FashionMNIST)\n",
        "label = 2  # input a label\n",
        "num_images = 2  # input the number of images\n",
        "z_dim = g.dim_z\n",
        "\n",
        "generated_images = generate_images(g, label, num_images, z_dim, device)\n",
        "\n",
        "real_images = get_real_images(train_dataset, label, num_images)\n",
        "\n",
        "show_images(generated_images, real_images, label)"
      ],
      "metadata": {
        "colab": {
          "base_uri": "https://localhost:8080/",
          "height": 210
        },
        "outputId": "c2c0003a-72aa-49f4-a03b-87e65b496022",
        "id": "jDwoXF2S-dz8"
      },
      "execution_count": 61,
      "outputs": [
        {
          "output_type": "display_data",
          "data": {
            "text/plain": [
              "<Figure size 1000x500 with 2 Axes>"
            ],
            "image/png": "[encoded data removed]"
          },
          "metadata": {}
        }
      ]
    }
  ]
}